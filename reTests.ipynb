{
 "cells": [
  {
   "cell_type": "code",
   "execution_count": 1,
   "metadata": {},
   "outputs": [],
   "source": [
    "import re"
   ]
  },
  {
   "cell_type": "code",
   "execution_count": 49,
   "metadata": {},
   "outputs": [],
   "source": [
    "x = '(\\w*):(\\w*)'\n",
    "strVar = '${(MadGraphSet:gprime*MadGraphSet:F*(1-(5.0*(MadGraphSet:v*1.0/MadGraphSet:F)**2)/8.0))/sqrt(5.0)}'\n",
    "strVar2 = '${(gprivme*MadGraphSet:F*(1-(5.0*(MadGraphSet:v*1.0/MadGraphSet:F)**2)/8.0))/sqrt(v)}'"
   ]
  },
  {
   "cell_type": "code",
   "execution_count": 24,
   "metadata": {},
   "outputs": [],
   "source": [
    "y = re.findall(x,strVar2)"
   ]
  },
  {
   "cell_type": "code",
   "execution_count": 25,
   "metadata": {},
   "outputs": [
    {
     "name": "stdout",
     "output_type": "stream",
     "text": [
      "[('xMadGraphSet', 'gpri2me'), ('MadGraphSet', 'F'), ('MadGraphSet', 'v'), ('MadGraphSet', 'F')]\n"
     ]
    }
   ],
   "source": [
    "print(y)"
   ]
  },
  {
   "cell_type": "code",
   "execution_count": 51,
   "metadata": {},
   "outputs": [
    {
     "name": "stdout",
     "output_type": "stream",
     "text": [
      "['v', 'v']\n"
     ]
    }
   ],
   "source": [
    "opt = 'gpri2me'\n",
    "opt = 'v'\n",
    "z = re.findall(r'(?<=\\W)%s(?=\\W)'%opt,strVar2)\n",
    "print(z)"
   ]
  },
  {
   "cell_type": "code",
   "execution_count": 71,
   "metadata": {},
   "outputs": [
    {
     "name": "stdout",
     "output_type": "stream",
     "text": [
      "['MHve']\n"
     ]
    }
   ],
   "source": [
    "opt = 'gpri2me'\n",
    "opt = 'MHve'\n",
    "# z = re.sub(r'(?<=\\W)%s(?=\\W)'%opt,'15','MHve/2')\n",
    "z = re.findall(r'(?:(?=\\W)|(?=^))%s(?:(?=\\W)|(?=$))'%opt,'MHve/2')\n",
    "print(z)"
   ]
  },
  {
   "cell_type": "code",
   "execution_count": null,
   "metadata": {},
   "outputs": [],
   "source": []
  }
 ],
 "metadata": {
  "kernelspec": {
   "display_name": "Python 2",
   "language": "python",
   "name": "python2"
  },
  "language_info": {
   "codemirror_mode": {
    "name": "ipython",
    "version": 2
   },
   "file_extension": ".py",
   "mimetype": "text/x-python",
   "name": "python",
   "nbconvert_exporter": "python",
   "pygments_lexer": "ipython2",
   "version": "2.7.14"
  }
 },
 "nbformat": 4,
 "nbformat_minor": 2
}
