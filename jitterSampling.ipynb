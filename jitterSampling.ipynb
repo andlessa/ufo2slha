{
 "cells": [
  {
   "cell_type": "code",
   "execution_count": 1,
   "metadata": {},
   "outputs": [],
   "source": [
    "from jittered_sampling import ParameterSpace"
   ]
  },
  {
   "cell_type": "code",
   "execution_count": 2,
   "metadata": {},
   "outputs": [],
   "source": [
    "pars = {'MH0':[100.,1000.],'MA0':[100.,1000.],'MHch':[100.,1000.],'lam2':[0.,0.],'laml':[-1.,1.]}\n",
    "npoints = 10\n",
    "pSpace = ParameterSpace(parametersDict=pars,n_pieces=npoints,maxPoints=100000)"
   ]
  },
  {
   "cell_type": "code",
   "execution_count": 3,
   "metadata": {},
   "outputs": [
    {
     "name": "stdout",
     "output_type": "stream",
     "text": [
      "{'MA0': 10, 'MH0': 10, 'MHch': 10, 'lam2': 1, 'laml': 10}\n"
     ]
    }
   ],
   "source": [
    "print(pSpace.n_pieces)"
   ]
  },
  {
   "cell_type": "code",
   "execution_count": 4,
   "metadata": {},
   "outputs": [],
   "source": [
    "pt = pSpace.get_jittered_samplig(outFile='IDM_parsA.csv')"
   ]
  },
  {
   "cell_type": "code",
   "execution_count": 5,
   "metadata": {},
   "outputs": [
    {
     "name": "stdout",
     "output_type": "stream",
     "text": [
      "(10000,)\n"
     ]
    }
   ],
   "source": [
    "print(pt.shape)"
   ]
  },
  {
   "cell_type": "code",
   "execution_count": 6,
   "metadata": {},
   "outputs": [
    {
     "name": "stdout",
     "output_type": "stream",
     "text": [
      "('MA0', 'MH0', 'MHch', 'lam2', 'laml')\n",
      "(110.58160264, 176.57862149, 109.28365715, 0., -0.98367524)\n",
      "(116.63150981, 167.09728715, 135.50759738, 0., -0.64037634)\n",
      "(166.04404084, 143.40010529, 152.33158491, 0., -0.59234519)\n",
      "(136.03336826, 170.8072973, 188.56910642, 0., -0.23547048)\n"
     ]
    }
   ],
   "source": [
    "print(pt.dtype.names)\n",
    "print(pt[0])\n",
    "print(pt[1])\n",
    "print(pt[2])\n",
    "print(pt[3])"
   ]
  }
 ],
 "metadata": {
  "kernelspec": {
   "display_name": "Python 3",
   "language": "python",
   "name": "python3"
  },
  "language_info": {
   "codemirror_mode": {
    "name": "ipython",
    "version": 3
   },
   "file_extension": ".py",
   "mimetype": "text/x-python",
   "name": "python",
   "nbconvert_exporter": "python",
   "pygments_lexer": "ipython3",
   "version": "3.6.7"
  }
 },
 "nbformat": 4,
 "nbformat_minor": 2
}
