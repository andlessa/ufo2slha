{
 "cells": [
  {
   "cell_type": "code",
   "execution_count": 1,
   "metadata": {},
   "outputs": [],
   "source": [
    "import pyslha"
   ]
  },
  {
   "cell_type": "code",
   "execution_count": 2,
   "metadata": {},
   "outputs": [],
   "source": [
    "andre = pyslha.readSLHAFile('./test_slha_8/test.slha')\n",
    "juhi = pyslha.readSLHAFile('./param_card_1_f1TeV.dat')"
   ]
  },
  {
   "cell_type": "code",
   "execution_count": 3,
   "metadata": {},
   "outputs": [],
   "source": [
    "Apdgs = []\n",
    "for xsec in andre.xsections:\n",
    "    Apdgs.append(sorted(list(xsec)[2:]))\n",
    "Jpdgs = []\n",
    "for xsec in juhi.xsections:\n",
    "    Jpdgs.append(sorted(list(xsec)[2:]))    "
   ]
  },
  {
   "cell_type": "code",
   "execution_count": 14,
   "metadata": {},
   "outputs": [
    {
     "name": "stdout",
     "output_type": "stream",
     "text": [
      "('Andre: ', 106, 'Juhi: ', 47)\n",
      "('Missing in Juhi:', [8880002, 8880023], 0.00098583)\n",
      "('Missing in Juhi:', [-8880024, 8880002], 0.00064883)\n",
      "('Missing in Juhi:', [8880002, 8880022], 0.00027275)\n",
      "('Missing in Juhi:', [8880001, 8880024], 0.00017186)\n",
      "('Missing in Juhi:', [-8880006, 8880006], 9.2987e-05)\n",
      "('Missing in Juhi:', [-8880002, 8880002], 9.2493e-05)\n",
      "('Missing in Juhi:', [-8880004, 8880004], 9.2108e-05)\n",
      "('Missing in Juhi:', [-8880024, 8880004], 6.7962e-05)\n",
      "('Missing in Juhi:', [-8880002, 8880024], 4.7727e-05)\n",
      "('Missing in Juhi:', [-8880004, 8880024], 3.4422e-05)\n",
      "('Missing in Juhi:', [8880003, 8880023], 3.2441e-05)\n",
      "('Missing in Juhi:', [8880001, 8880023], 2.4897e-05)\n",
      "('Missing in Juhi:', [-8880002, 8880023], 2.0766e-05)\n",
      "('Missing in Juhi:', [8880003, 8880024], 1.9115e-05)\n",
      "('Missing in Juhi:', [-8880024, -8880003], 1.9058e-05)\n",
      "('Missing in Juhi:', [-8880003, 8880023], 1.6265e-05)\n",
      "('Missing in Juhi:', [8880004, 8880023], 1.0147e-05)\n",
      "('Missing in Juhi:', [-8880004, 8880023], 1.0105e-05)\n",
      "('Missing in Juhi:', [8880003, 8880022], 7.2819e-06)\n",
      "('Missing in Juhi:', [-8880002, 8880022], 7.2498e-06)\n",
      "('Missing in Juhi:', [-8880027, 8880026], 6.697e-06)\n",
      "('Missing in Juhi:', [8880001, 8880022], 5.5909e-06)\n",
      "('Missing in Juhi:', [-8880003, 8880004], 4.5201e-06)\n",
      "('Missing in Juhi:', [-8880005, 8880006], 4.3787e-06)\n",
      "('Missing in Juhi:', [-8880003, 8880022], 3.8723e-06)\n",
      "('Missing in Juhi:', [8880004, 8880022], 3.6015e-06)\n",
      "('Missing in Juhi:', [-8880004, 8880022], 3.5871e-06)\n",
      "('Missing in Juhi:', [-8880024, -8880001], 2.5478e-06)\n",
      "('Missing in Juhi:', [-8880003, -8880002], 1.6657e-06)\n",
      "('Missing in Juhi:', [-8880004, 8880003], 1.6512e-06)\n",
      "('Missing in Juhi:', [-8880013, 8880014], 1.4104e-06)\n",
      "('Missing in Juhi:', [-8880011, 8880012], 1.4029e-06)\n",
      "('Missing in Juhi:', [-8880015, 8880016], 1.3976e-06)\n",
      "('Missing in Juhi:', [-8880001, 8880023], 1.3887e-06)\n",
      "('Missing in Juhi:', [-8880006, 8880005], 1.2039e-06)\n",
      "('Missing in Juhi:', [-8880004, -8880003], 1.059e-06)\n",
      "('Missing in Juhi:', [-8880001, 8880001], 9.2262e-07)\n",
      "('Missing in Juhi:', [-8880002, -8880001], 5.2093e-07)\n",
      "('Missing in Juhi:', [8880022, 8880025], 4.7098e-07)\n",
      "('Missing in Juhi:', [-8880004, -8880001], 4.476e-07)\n",
      "('Missing in Juhi:', [-8880004, -8880002], 4.1973e-07)\n",
      "('Missing in Juhi:', [-8880012, 8880011], 3.876e-07)\n",
      "('Missing in Juhi:', [-8880016, 8880015], 3.8129e-07)\n",
      "('Missing in Juhi:', [-8880003, -8880003], 3.749e-07)\n",
      "('Missing in Juhi:', [-8880014, 8880013], 3.749e-07)\n",
      "('Missing in Juhi:', [-8880001, 8880022], 3.5475e-07)\n",
      "('Missing in Juhi:', [8880022, 8880027], 3.4266e-07)\n",
      "('Missing in Juhi:', [-8880003, -8880001], 1.3968e-07)\n",
      "('Missing in Juhi:', [-8880027, 8880022], 1.2421e-07)\n",
      "('Missing in Juhi:', [8880023, 8880027], 6.4448e-08)\n",
      "('Missing in Juhi:', [8880023, 8880025], 3.0439e-08)\n",
      "('Missing in Juhi:', [-8880027, 8880023], 2.0859e-08)\n",
      "('Missing in Juhi:', [8880024, 8880026], 2.0526e-08)\n",
      "('Missing in Juhi:', [-8880024, 8880026], 6.7583e-09)\n",
      "('Missing in Juhi:', [-8880024, 8880027], 3.133e-09)\n",
      "('Missing in Juhi:', [-8880027, 8880024], 3.1207e-09)\n",
      "('Missing in Juhi:', [8880022, 8880026], 4.0454e-10)\n",
      "('Missing in Juhi:', [8880023, 8880026], 8.8347e-12)\n",
      "('Missing in Juhi:', [8880026, 8880026], 4.7454e-12)\n"
     ]
    }
   ],
   "source": [
    "print('Andre: ',len(Apdgs),'Juhi: ',len(Jpdgs))\n",
    "for pdg in Apdgs:\n",
    "    if not pdg in Jpdgs:\n",
    "        print('Missing in Juhi:',pdg,andre.xsections[(2212,2212,pdg[0],pdg[1])].xsecs[0].value)\n",
    "for pdg in Jpdgs:\n",
    "    if not pdg in Apdgs:\n",
    "        print('Missing in Andre:',pdg,juhi.xsections[(2212,2212,pdg[0],pdg[1])].xsecs[0].value)"
   ]
  }
 ],
 "metadata": {
  "kernelspec": {
   "display_name": "Python 2",
   "language": "python",
   "name": "python2"
  },
  "language_info": {
   "codemirror_mode": {
    "name": "ipython",
    "version": 2
   },
   "file_extension": ".py",
   "mimetype": "text/x-python",
   "name": "python",
   "nbconvert_exporter": "python",
   "pygments_lexer": "ipython2",
   "version": "2.7.14"
  }
 },
 "nbformat": 4,
 "nbformat_minor": 2
}
