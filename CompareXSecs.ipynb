{
 "cells": [
  {
   "cell_type": "code",
   "execution_count": 1,
   "metadata": {},
   "outputs": [],
   "source": [
    "import pyslha"
   ]
  },
  {
   "cell_type": "code",
   "execution_count": 2,
   "metadata": {},
   "outputs": [],
   "source": [
    "andre = pyslha.readSLHAFile('./test_slha_8/test.slha')\n",
    "juhi = pyslha.readSLHAFile('./param_card_1_f1TeV.dat')"
   ]
  },
  {
   "cell_type": "code",
   "execution_count": 3,
   "metadata": {},
   "outputs": [],
   "source": [
    "Apdgs = []\n",
    "for xsec in andre.xsections:\n",
    "    Apdgs.append(sorted(list(xsec)[2:]))\n",
    "Jpdgs = []\n",
    "for xsec in juhi.xsections:\n",
    "    Jpdgs.append(sorted(list(xsec)[2:]))    "
   ]
  },
  {
   "cell_type": "code",
   "execution_count": 4,
   "metadata": {},
   "outputs": [
    {
     "name": "stdout",
     "output_type": "stream",
     "text": [
      "('Andre: ', 100, 'Juhi: ', 47)\n",
      "('Missing in Juhi:', [8880002, 8880023])\n",
      "('Missing in Juhi:', [-8880024, 8880002])\n",
      "('Missing in Juhi:', [8880002, 8880022])\n",
      "('Missing in Juhi:', [8880001, 8880024])\n",
      "('Missing in Juhi:', [-8880006, 8880006])\n",
      "('Missing in Juhi:', [-8880002, 8880002])\n",
      "('Missing in Juhi:', [-8880004, 8880004])\n",
      "('Missing in Juhi:', [-8880024, 8880004])\n",
      "('Missing in Juhi:', [-8880002, 8880024])\n",
      "('Missing in Juhi:', [-8880004, 8880024])\n",
      "('Missing in Juhi:', [8880003, 8880023])\n",
      "('Missing in Juhi:', [8880001, 8880023])\n",
      "('Missing in Juhi:', [8880026, 8880026])\n",
      "('Missing in Juhi:', [-8880002, 8880023])\n",
      "('Missing in Juhi:', [8880003, 8880024])\n",
      "('Missing in Juhi:', [-8880024, -8880003])\n",
      "('Missing in Juhi:', [-8880003, 8880023])\n",
      "('Missing in Juhi:', [8880004, 8880023])\n",
      "('Missing in Juhi:', [-8880004, 8880023])\n",
      "('Missing in Juhi:', [8880003, 8880022])\n",
      "('Missing in Juhi:', [-8880002, 8880022])\n",
      "('Missing in Juhi:', [-8880027, 8880026])\n",
      "('Missing in Juhi:', [8880001, 8880022])\n",
      "('Missing in Juhi:', [-8880003, 8880004])\n",
      "('Missing in Juhi:', [-8880005, 8880006])\n",
      "('Missing in Juhi:', [-8880003, 8880022])\n",
      "('Missing in Juhi:', [8880004, 8880022])\n",
      "('Missing in Juhi:', [-8880004, 8880022])\n",
      "('Missing in Juhi:', [-8880024, -8880001])\n",
      "('Missing in Juhi:', [-8880003, -8880002])\n",
      "('Missing in Juhi:', [-8880004, 8880003])\n",
      "('Missing in Juhi:', [-8880013, 8880014])\n",
      "('Missing in Juhi:', [-8880011, 8880012])\n",
      "('Missing in Juhi:', [-8880015, 8880016])\n",
      "('Missing in Juhi:', [-8880001, 8880023])\n",
      "('Missing in Juhi:', [-8880006, 8880005])\n",
      "('Missing in Juhi:', [-8880004, -8880003])\n",
      "('Missing in Juhi:', [-8880001, 8880001])\n",
      "('Missing in Juhi:', [-8880002, -8880001])\n",
      "('Missing in Juhi:', [8880022, 8880025])\n",
      "('Missing in Juhi:', [-8880004, -8880001])\n",
      "('Missing in Juhi:', [-8880004, -8880002])\n",
      "('Missing in Juhi:', [-8880012, 8880011])\n",
      "('Missing in Juhi:', [-8880016, 8880015])\n",
      "('Missing in Juhi:', [-8880003, -8880003])\n",
      "('Missing in Juhi:', [-8880014, 8880013])\n",
      "('Missing in Juhi:', [-8880001, 8880022])\n",
      "('Missing in Juhi:', [8880022, 8880026])\n",
      "('Missing in Juhi:', [-8880003, -8880001])\n",
      "('Missing in Juhi:', [-8880027, 8880022])\n",
      "('Missing in Juhi:', [8880023, 8880026])\n",
      "('Missing in Juhi:', [8880023, 8880025])\n",
      "('Missing in Juhi:', [-8880027, 8880023])\n",
      "('Missing in Juhi:', [8880024, 8880026])\n",
      "('Missing in Juhi:', [-8880024, 8880026])\n",
      "('Missing in Juhi:', [-8880027, 8880024])\n",
      "('Missing in Andre:', [8880025, 8880027])\n",
      "('Missing in Andre:', [-8880027, 8880027])\n",
      "('Missing in Andre:', [8880026, 8880027])\n"
     ]
    }
   ],
   "source": [
    "print('Andre: ',len(Apdgs),'Juhi: ',len(Jpdgs))\n",
    "for pdg in Apdgs:\n",
    "    if not pdg in Jpdgs:\n",
    "        print('Missing in Juhi:',pdg)\n",
    "for pdg in Jpdgs:\n",
    "    if not pdg in Apdgs:\n",
    "        print('Missing in Andre:',pdg)"
   ]
  },
  {
   "cell_type": "code",
   "execution_count": 47,
   "metadata": {},
   "outputs": [
    {
     "name": "stdout",
     "output_type": "stream",
     "text": [
      "('P51_udx_phipzh', 6.187e-08, 6.07e-10, 7.037, 395., 0.)\n"
     ]
    }
   ],
   "source": [
    "print(proc[201])"
   ]
  },
  {
   "cell_type": "code",
   "execution_count": 59,
   "metadata": {},
   "outputs": [
    {
     "name": "stdout",
     "output_type": "stream",
     "text": [
      "chthx\n",
      "bhxdh\n",
      "ahbhx\n",
      "bhdh\n",
      "bhuhx\n",
      "bhxzh\n",
      "thwhm\n",
      "shth\n",
      "bhxuhx\n",
      "bhchx\n",
      "thxuh\n",
      "bhsh\n",
      "bhch\n",
      "bhxbhx\n",
      "shxthx\n",
      "bhzh\n",
      "bhxuh\n",
      "bhuh\n",
      "bhbh\n",
      "thuhx\n",
      "chxth\n",
      "bhdhx\n",
      "dhth\n",
      "bhxsh\n",
      "bhshx\n",
      "bhxshx\n",
      "dhxthx\n",
      "thxwhp\n",
      "bhxdhx\n",
      "bhxchx\n",
      "ahbh\n",
      "bhxch\n"
     ]
    }
   ],
   "source": [
    "xsecs = {}\n",
    "xsecsErr = {}\n",
    "procCode = {}\n",
    "for p in proc:\n",
    "    fs = p[0].split('_')[-1]\n",
    "    if not fs in xsecs:\n",
    "        xsecs[fs] = 0.\n",
    "        xsecsErr[fs] = 0.\n",
    "        procCode[fs] = []\n",
    "    xsecs[fs] += p['xsec']\n",
    "    xsecsErr[fs] += p['error']\n",
    "    pCode = eval(p['process'].split('_')[0].replace('P',''))\n",
    "    if not pCode in procCode[fs]:\n",
    "        procCode[fs].append(pCode)\n",
    "for key,val in xsecs.items():\n",
    "    if not val:\n",
    "        print(key)\n",
    "        xsecs.pop(key)\n",
    "        xsecsErr.pop(key)\n",
    "        procCode.pop(key)"
   ]
  },
  {
   "cell_type": "code",
   "execution_count": 58,
   "metadata": {},
   "outputs": [
    {
     "name": "stdout",
     "output_type": "stream",
     "text": [
      "106\n"
     ]
    }
   ],
   "source": [
    "allCodes = []\n",
    "for val in procCode.values():\n",
    "    allCodes += val\n",
    "print(len(allCodes))"
   ]
  },
  {
   "cell_type": "code",
   "execution_count": 45,
   "metadata": {},
   "outputs": [
    {
     "name": "stdout",
     "output_type": "stream",
     "text": [
      "51.0\n",
      "118.0\n",
      "240.0\n",
      "453.0\n"
     ]
    }
   ],
   "source": [
    "for pcode in data[:,3]:\n",
    "    if not pcode in procCode.values():\n",
    "        print(pcode)"
   ]
  },
  {
   "cell_type": "code",
   "execution_count": 35,
   "metadata": {},
   "outputs": [
    {
     "name": "stdout",
     "output_type": "stream",
     "text": [
      "('phipphi0', 2.131517089942747e-05)\n",
      "('chthx', 0.0)\n",
      "('bhxdh', 0.0)\n",
      "('shxuh', 2.470100093887595e-05)\n",
      "('ahbhx', 0.0)\n",
      "('dhuhx', 1.950972926323402e-06)\n",
      "('bhdh', 0.0)\n",
      "('ahuh', 0.0002727000101003796)\n",
      "('bhuhx', 0.0)\n",
      "('bhxzh', 0.0)\n",
      "('chxzh', 1.0110000403074082e-05)\n",
      "('muhpvmh', 1.4108291479519863e-06)\n",
      "('whpwhm', 0.0013868160522179096)\n",
      "('thwhm', 0.0)\n",
      "('shth', 0.0)\n",
      "('uhuh', 0.00203000009059906)\n",
      "('bhxuhx', 0.0)\n",
      "('bhchx', 0.0)\n",
      "('thxuh', 0.0)\n",
      "('bhsh', 0.0)\n",
      "('bhch', 0.0)\n",
      "('bhxbhx', 0.0)\n",
      "('dhzh', 2.4902419241357165e-05)\n",
      "('chuhx', 5.94290000321962e-06)\n",
      "('shxthx', 0.0)\n",
      "('bhzh', 0.0)\n",
      "('shuh', 8.195047072945272e-05)\n",
      "('bhxuh', 0.0)\n",
      "('bhuh', 0.0)\n",
      "('phipwhm', 9.891190019817309e-09)\n",
      "('bhbh', 0.0)\n",
      "('dhxdhx', 1.7491360422561275e-08)\n",
      "('thuhx', 0.0)\n",
      "('whpzh', 0.0017952620194137126)\n",
      "('dhxshx', 1.39713995928048e-07)\n",
      "('tahpvth', 1.3973505487707705e-06)\n",
      "('ahphip', 3.43043768557741e-07)\n",
      "('chxth', 0.0)\n",
      "('bhdhx', 0.0)\n",
      "('dhth', 0.0)\n",
      "('chdh', 7.484485284015019e-05)\n",
      "('bhxsh', 0.0)\n",
      "('bhthx', 1.203592022935851e-06)\n",
      "('ahah', 3.6526910164869086e-06)\n",
      "('phipzh', 6.445508192940519e-08)\n",
      "('bhshx', 0.0)\n",
      "('dhwhp', 0.00017189999925903976)\n",
      "('chzh', 1.0149999980058055e-05)\n",
      "('phipwhp', 2.0530239834559705e-08)\n",
      "('bhxshx', 0.0)\n",
      "('dhxthx', 0.0)\n",
      "('thxwhp', 0.0)\n",
      "('bhxdhx', 0.0)\n",
      "('uhxzh', 2.0769999537151307e-05)\n",
      "('uhuhx', 9.250630253632153e-05)\n",
      "('shwhp', 1.911000072141178e-05)\n",
      "('bhxchx', 0.0)\n",
      "('ahbh', 0.0)\n",
      "('shxuhx', 1.6652900214353394e-06)\n",
      "('ehpveh', 1.4030636071582503e-06)\n",
      "('ahch', 3.6020001061842777e-06)\n",
      "('bhxch', 0.0)\n",
      "('phimzh', 2.085636981175032e-08)\n"
     ]
    },
    {
     "name": "stderr",
     "output_type": "stream",
     "text": [
      "/home/lessa/.local/lib/python2.7/site-packages/ipykernel_launcher.py:2: RuntimeWarning: divide by zero encountered in double_scalars\n",
      "  \n"
     ]
    }
   ],
   "source": [
    "for p in proc:\n",
    "    "
   ]
  },
  {
   "cell_type": "code",
   "execution_count": 34,
   "metadata": {},
   "outputs": [
    {
     "data": {
      "text/plain": [
       "0.013016398329557491"
      ]
     },
     "execution_count": 34,
     "metadata": {},
     "output_type": "execute_result"
    }
   ],
   "source": [
    "np.sum(list(xsecs.values()))"
   ]
  },
  {
   "cell_type": "code",
   "execution_count": null,
   "metadata": {},
   "outputs": [],
   "source": []
  }
 ],
 "metadata": {
  "kernelspec": {
   "display_name": "Python 2",
   "language": "python",
   "name": "python2"
  },
  "language_info": {
   "codemirror_mode": {
    "name": "ipython",
    "version": 2
   },
   "file_extension": ".py",
   "mimetype": "text/x-python",
   "name": "python",
   "nbconvert_exporter": "python",
   "pygments_lexer": "ipython2",
   "version": "2.7.14"
  }
 },
 "nbformat": 4,
 "nbformat_minor": 2
}
