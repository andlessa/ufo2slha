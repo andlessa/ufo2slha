{
 "cells": [
  {
   "cell_type": "code",
   "execution_count": 1,
   "metadata": {},
   "outputs": [],
   "source": [
    "import numpy as np\n",
    "import glob"
   ]
  },
  {
   "cell_type": "code",
   "execution_count": 29,
   "metadata": {},
   "outputs": [
    {
     "name": "stdout",
     "output_type": "stream",
     "text": [
      "activelearning_data/sorted_3536.txt\n",
      "activelearning_data/sorted_3537.txt\n",
      "activelearning_data/sorted_3637.txt\n",
      "activelearning_data/sorted_3737.txt\n",
      "activelearning_data/sorted_3735.txt\n",
      "activelearning_data/sorted_3736.txt\n",
      "activelearning_data/sorted_3535.txt\n",
      "activelearning_data/sorted_3636.txt\n"
     ]
    }
   ],
   "source": [
    "pts = np.array([])\n",
    "for f in glob.glob('activelearning_data/sorted*txt'):\n",
    "    print(f)\n",
    "    data = np.genfromtxt(f,names=True,delimiter=',')\n",
    "    fpts = np.column_stack((data['MA0'],data['MH0'],data['MHC'],data['lam2'],data['lamL']))\n",
    "    if not pts.size:\n",
    "        pts = fpts\n",
    "    else:\n",
    "        pts = np.vstack((pts,fpts))"
   ]
  },
  {
   "cell_type": "code",
   "execution_count": 28,
   "metadata": {},
   "outputs": [],
   "source": [
    "np.savetxt('IDM_parsC.csv',pts,fmt='%.6e',header=\"MA0,MH0,MHch,lam2,laml\",delimiter=',')"
   ]
  },
  {
   "cell_type": "code",
   "execution_count": null,
   "metadata": {},
   "outputs": [],
   "source": []
  }
 ],
 "metadata": {
  "kernelspec": {
   "display_name": "Python 3",
   "language": "python",
   "name": "python3"
  },
  "language_info": {
   "codemirror_mode": {
    "name": "ipython",
    "version": 3
   },
   "file_extension": ".py",
   "mimetype": "text/x-python",
   "name": "python",
   "nbconvert_exporter": "python",
   "pygments_lexer": "ipython3",
   "version": "3.7.3"
  }
 },
 "nbformat": 4,
 "nbformat_minor": 2
}
