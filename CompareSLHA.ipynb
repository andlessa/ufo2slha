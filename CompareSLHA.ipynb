{
 "cells": [
  {
   "cell_type": "code",
   "execution_count": 1,
   "metadata": {},
   "outputs": [],
   "source": [
    "import pyslha,itertools\n",
    "import logging as logger"
   ]
  },
  {
   "cell_type": "code",
   "execution_count": 13,
   "metadata": {},
   "outputs": [],
   "source": [
    "def equalObjs(obj1,obj2,rtol=0.01,ignore=[]):\n",
    "    \n",
    "    if type(obj1) != type(obj2):\n",
    "        logger.warning(\"Data types differ (%s,%s)\" %(type(obj1),type(obj2)))\n",
    "        return False\n",
    "   \n",
    "    if type(obj1) in [ float, int ]:\n",
    "        obj1,obj2=float(obj1),float(obj2)\n",
    "    \n",
    "    if isinstance(obj1,list):\n",
    "        obj1 = sorted(obj1)\n",
    "        obj2 = sorted(obj2)\n",
    "    \n",
    "    if obj1 == obj2:\n",
    "        return True\n",
    "\n",
    "    if isinstance(obj1,float):\n",
    "        if obj1 == obj2:\n",
    "            return True\n",
    "        diff = 2.*abs(obj1-obj2)/abs(obj1+obj2)\n",
    "        return diff < rtol\n",
    "    elif isinstance(obj1,str):\n",
    "        return obj1 == obj2\n",
    "    elif isinstance(obj1,dict):\n",
    "        for key in obj1:\n",
    "            if key in ignore:\n",
    "                continue\n",
    "            if not key in obj2:\n",
    "                logger.warning(\"Key %s missing\" %str(key))\n",
    "                return False\n",
    "            if not equalObjs(obj1[key],obj2[key],rtol, ignore=ignore ):\n",
    "                logger.warning( \"Dictionaries differ in key %s\" %str(key))\n",
    "                s1,s2 = str(obj1[key]),str(obj2[key]) \n",
    "                if len(s1) + len(s2) > 200:\n",
    "                    logger.warning ( \"The values are too long to print.\" )\n",
    "                else:\n",
    "                    logger.warning( 'The values are: %s versus %s'%\\\n",
    "                                ( s1,s2 ) )\n",
    "                return False\n",
    "    elif isinstance(obj1,list):\n",
    "        if len(obj1) != len(obj2):\n",
    "            logger.warning('Lists differ in length:\\n   %i (this run)\\n and\\n   %i (default)' %\\\n",
    "                                (len(obj1),len(obj2)))\n",
    "            return False\n",
    "        for ival,val in enumerate(obj1):\n",
    "            if not equalObjs(val,obj2[ival],rtol):\n",
    "                logger.warning('Lists differ:\\n   %s (this run)\\n and\\n   %s (default)' %\\\n",
    "                                (str(val),str(obj2[ival])))\n",
    "                return False\n",
    "    else:\n",
    "        if not equalObjs(obj1.__dict__,obj2.__dict__):\n",
    "            return False\n",
    "        \n",
    "    return True"
   ]
  },
  {
   "cell_type": "code",
   "execution_count": 14,
   "metadata": {},
   "outputs": [],
   "source": [
    "#Load the SLHA data\n",
    "slhaFiles = {'andre' : './test_13.slha', 'juhi' : './param_card_1_f1TeV.dat'}\n",
    "slhaData = dict([[key,pyslha.readSLHAFile(val)] for key,val in slhaFiles.items()])"
   ]
  },
  {
   "cell_type": "code",
   "execution_count": 15,
   "metadata": {},
   "outputs": [
    {
     "name": "stderr",
     "output_type": "stream",
     "text": [
      "WARNING:root:Key (2212, 2212, 8880001, 8880024) missing\n",
      "WARNING:root:Dictionaries differ in key xsections\n",
      "WARNING:root:The values are too long to print.\n"
     ]
    },
    {
     "name": "stdout",
     "output_type": "stream",
     "text": [
      "Files andre and juhi differ\n"
     ]
    }
   ],
   "source": [
    "#Loop over the files and compare them 2 at a time:\n",
    "for file1,file2 in itertools.product(slhaData.keys(),slhaData.keys()):\n",
    "    if file1 == file2:\n",
    "        continue\n",
    "    slha1 = slhaData[file1]\n",
    "    slha2 = slhaData[file2]\n",
    "    comp = equalObjs(slha1,slha2)\n",
    "    if not comp:\n",
    "        print('Files %s and %s differ' %(file1,file2))"
   ]
  },
  {
   "cell_type": "code",
   "execution_count": 11,
   "metadata": {},
   "outputs": [
    {
     "name": "stdout",
     "output_type": "stream",
     "text": [
      "47\n",
      "106\n"
     ]
    }
   ],
   "source": [
    "print(len(slhaData['juhi'].xsections))\n",
    "print(len(slhaData['andre'].xsections))"
   ]
  },
  {
   "cell_type": "code",
   "execution_count": null,
   "metadata": {},
   "outputs": [],
   "source": []
  }
 ],
 "metadata": {
  "kernelspec": {
   "display_name": "Python 2",
   "language": "python",
   "name": "python2"
  },
  "language_info": {
   "codemirror_mode": {
    "name": "ipython",
    "version": 2
   },
   "file_extension": ".py",
   "mimetype": "text/x-python",
   "name": "python",
   "nbconvert_exporter": "python",
   "pygments_lexer": "ipython2",
   "version": "2.7.14"
  }
 },
 "nbformat": 4,
 "nbformat_minor": 2
}
