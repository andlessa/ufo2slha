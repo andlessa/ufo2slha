{
 "cells": [
  {
   "cell_type": "code",
   "execution_count": 1,
   "metadata": {},
   "outputs": [],
   "source": [
    "import pyslha,itertools\n",
    "import logging as logger"
   ]
  },
  {
   "cell_type": "code",
   "execution_count": 2,
   "metadata": {},
   "outputs": [],
   "source": [
    "def equalObjs(obj1,obj2,rtol=0.01,ignore=[]):\n",
    "    \n",
    "    if type(obj1) != type(obj2):\n",
    "        logger.warning(\"Data types differ (%s,%s)\" %(type(obj1),type(obj2)))\n",
    "        return False\n",
    "   \n",
    "    if type(obj1) in [ float, int ]:\n",
    "        obj1,obj2=float(obj1),float(obj2)\n",
    "    \n",
    "    if isinstance(obj1,list):\n",
    "        obj1 = sorted(obj1)\n",
    "        obj2 = sorted(obj2)\n",
    "    \n",
    "    if obj1 == obj2:\n",
    "        return True\n",
    "\n",
    "    if isinstance(obj1,float):\n",
    "        if obj1 == obj2:\n",
    "            return True\n",
    "        diff = 2.*abs(obj1-obj2)/abs(obj1+obj2)\n",
    "        return diff < rtol\n",
    "    elif isinstance(obj1,str):\n",
    "        return obj1.lower() == obj2.lower()\n",
    "    elif isinstance(obj1,dict):\n",
    "        for key in obj1:\n",
    "            if key in ignore:\n",
    "                continue\n",
    "            if not key in obj2:\n",
    "                logger.warning(\"Key %s missing\" %str(key))\n",
    "                return False\n",
    "            if not equalObjs(obj1[key],obj2[key],rtol, ignore=ignore ):\n",
    "                logger.warning( \"Dictionaries differ in key %s\" %str(key))\n",
    "                s1,s2 = str(obj1[key]),str(obj2[key]) \n",
    "                if len(s1) + len(s2) > 200:\n",
    "                    logger.warning ( \"The values are too long to print.\" )\n",
    "                else:\n",
    "                    logger.warning( 'The values are: %s versus %s'%\\\n",
    "                                ( s1,s2 ) )\n",
    "                return False\n",
    "    elif isinstance(obj1,list):\n",
    "        if len(obj1) != len(obj2):\n",
    "            logger.warning('Lists differ in length:\\n   %i (this run)\\n and\\n   %i (default)' %\\\n",
    "                                (len(obj1),len(obj2)))\n",
    "            return False\n",
    "        for ival,val in enumerate(obj1):\n",
    "            if not equalObjs(val,obj2[ival],rtol):\n",
    "                logger.warning('Lists differ:\\n   %s (this run)\\n and\\n   %s (default)' %\\\n",
    "                                (str(val),str(obj2[ival])))\n",
    "                return False\n",
    "    else:\n",
    "        if not equalObjs(obj1.__dict__,obj2.__dict__):\n",
    "            return False\n",
    "        \n",
    "    return True"
   ]
  },
  {
   "cell_type": "code",
   "execution_count": 9,
   "metadata": {},
   "outputs": [],
   "source": [
    "#Load the SLHA data\n",
    "slhaFiles = {'andre' : './lhiggs_slha/lhiggs_F1000_13.slha', 'juhi' : './juhi_files/LHT1TeV.slha'}\n",
    "slhaData = dict([[key,pyslha.readSLHAFile(val)] for key,val in slhaFiles.items()])"
   ]
  },
  {
   "cell_type": "code",
   "execution_count": 10,
   "metadata": {},
   "outputs": [
    {
     "name": "stdout",
     "output_type": "stream",
     "text": [
      "Files are equal\n",
      "Files are equal\n"
     ]
    }
   ],
   "source": [
    "#Loop over the files and compare them 2 at a time:\n",
    "for file1,file2 in itertools.product(slhaData.keys(),slhaData.keys()):\n",
    "    if file1 == file2:\n",
    "        continue\n",
    "    slha1 = slhaData[file1]\n",
    "    slha2 = slhaData[file2]\n",
    "    comp = equalObjs(slha1,slha2,rtol=0.01)\n",
    "    if not comp:\n",
    "        print('Files %s and %s differ' %(file1,file2))\n",
    "    else:\n",
    "        print('Files are equal')"
   ]
  },
  {
   "cell_type": "code",
   "execution_count": 11,
   "metadata": {},
   "outputs": [
    {
     "name": "stdout",
     "output_type": "stream",
     "text": [
      "True\n"
     ]
    }
   ],
   "source": [
    "print(sorted(slhaData['andre'].blocks.keys()) ==sorted(slhaData['juhi'].blocks.keys()))"
   ]
  },
  {
   "cell_type": "code",
   "execution_count": 12,
   "metadata": {},
   "outputs": [
    {
     "name": "stdout",
     "output_type": "stream",
     "text": [
      "106\n",
      "106\n"
     ]
    }
   ],
   "source": [
    "print(len(slhaData['juhi'].xsections))\n",
    "print(len(slhaData['andre'].xsections))"
   ]
  },
  {
   "cell_type": "code",
   "execution_count": 17,
   "metadata": {},
   "outputs": [
    {
     "name": "stdout",
     "output_type": "stream",
     "text": [
      "(2212, 2212, 8880022, 8880022)\n",
      "[sqrt(s) = 13000 GeV, avg mass scale scheme, Born QCD, Born EW; K_F = 0, K_R = 0, PDF = 0 : xsec = 1.75097e-05 pb]\n",
      "[sqrt(s) = 13000 GeV, avg mass scale scheme, Born QCD, Born EW; K_F = 0, K_R = 0, PDF = 0 : xsec = 1.6273e-05 pb (ufo2slha 1.0)]\n",
      "\n",
      "\n",
      "(2212, 2212, 8880022, 8880024)\n",
      "[sqrt(s) = 13000 GeV, avg mass scale scheme, Born QCD, Born EW; K_F = 0, K_R = 0, PDF = 0 : xsec = 0.00043684 pb]\n",
      "[sqrt(s) = 13000 GeV, avg mass scale scheme, Born QCD, Born EW; K_F = 0, K_R = 0, PDF = 0 : xsec = 0.0004213 pb (ufo2slha 1.0)]\n",
      "\n",
      "\n",
      "(2212, 2212, -8880024, 8880022)\n",
      "[sqrt(s) = 13000 GeV, avg mass scale scheme, Born QCD, Born EW; K_F = 0, K_R = 0, PDF = 0 : xsec = 0.000163618 pb]\n",
      "[sqrt(s) = 13000 GeV, avg mass scale scheme, Born QCD, Born EW; K_F = 0, K_R = 0, PDF = 0 : xsec = 0.00016796 pb (ufo2slha 1.0)]\n",
      "\n",
      "\n",
      "(2212, 2212, 8880002, 8880002)\n",
      "[sqrt(s) = 13000 GeV, avg mass scale scheme, Born QCD, Born EW; K_F = 0, K_R = 0, PDF = 0 : xsec = 0.0224316 pb]\n",
      "[sqrt(s) = 13000 GeV, avg mass scale scheme, Born QCD, Born EW; K_F = 0, K_R = 0, PDF = 0 : xsec = 0.020537 pb (ufo2slha 1.0)]\n",
      "\n",
      "\n",
      "(2212, 2212, -8880001, 8880002)\n",
      "[sqrt(s) = 13000 GeV, avg mass scale scheme, Born QCD, Born EW; K_F = 0, K_R = 0, PDF = 0 : xsec = 0.00117034 pb]\n",
      "[sqrt(s) = 13000 GeV, avg mass scale scheme, Born QCD, Born EW; K_F = 0, K_R = 0, PDF = 0 : xsec = 0.0011345 pb (ufo2slha 1.0)]\n",
      "\n",
      "\n",
      "(2212, 2212, -8880004, 8880001)\n",
      "[sqrt(s) = 13000 GeV, avg mass scale scheme, Born QCD, Born EW; K_F = 0, K_R = 0, PDF = 0 : xsec = 0.000128548 pb]\n",
      "[sqrt(s) = 13000 GeV, avg mass scale scheme, Born QCD, Born EW; K_F = 0, K_R = 0, PDF = 0 : xsec = 0.00013167 pb (ufo2slha 1.0)]\n",
      "\n",
      "\n",
      "(2212, 2212, -8880015, 8880016)\n",
      "[sqrt(s) = 13000 GeV, avg mass scale scheme, Born QCD, Born EW; K_F = 0, K_R = 0, PDF = 0 : xsec = 3.54546e-05 pb]\n",
      "[sqrt(s) = 13000 GeV, avg mass scale scheme, Born QCD, Born EW; K_F = 0, K_R = 0, PDF = 0 : xsec = 3.6371e-05 pb (ufo2slha 1.0)]\n",
      "\n",
      "\n",
      "(2212, 2212, -8880004, -8880003)\n",
      "[sqrt(s) = 13000 GeV, avg mass scale scheme, Born QCD, Born EW; K_F = 0, K_R = 0, PDF = 0 : xsec = 5.02716e-05 pb]\n",
      "[sqrt(s) = 13000 GeV, avg mass scale scheme, Born QCD, Born EW; K_F = 0, K_R = 0, PDF = 0 : xsec = 4.923e-05 pb (ufo2slha 1.0)]\n",
      "\n",
      "\n"
     ]
    }
   ],
   "source": [
    "diffs = []\n",
    "for pdg in slhaData['juhi'].xsections:\n",
    "    xsecA = slhaData['juhi'].xsections[pdg].get_xsecs(sqrts=13000.)\n",
    "    xsecB = slhaData['andre'].xsections[pdg].get_xsecs(sqrts=13000.)\n",
    "    if len(xsecA) != len(xsecB):\n",
    "        print(xsecA)\n",
    "        print(xsecB)\n",
    "        print('(lens differ)')\n",
    "    if not xsecA:\n",
    "        continue\n",
    "    if xsecA[0].value != xsecB[0].value:\n",
    "        diffs.append(2.*abs(xsecA[0].value - xsecB[0].value)/abs(xsecA[0].value + xsecB[0].value))\n",
    "        if diffs[-1] > 0.02:\n",
    "            print(pdg)\n",
    "            print(xsecA)\n",
    "            print(xsecB)\n",
    "            print('\\n')\n",
    "            "
   ]
  },
  {
   "cell_type": "code",
   "execution_count": 16,
   "metadata": {},
   "outputs": [
    {
     "name": "stdout",
     "output_type": "stream",
     "text": [
      "(2.337955794844104e-05, 0.08818710575899072)\n"
     ]
    }
   ],
   "source": [
    "print(min(diffs),max(diffs))"
   ]
  },
  {
   "cell_type": "code",
   "execution_count": null,
   "metadata": {},
   "outputs": [],
   "source": []
  }
 ],
 "metadata": {
  "kernelspec": {
   "display_name": "Python 2",
   "language": "python",
   "name": "python2"
  },
  "language_info": {
   "codemirror_mode": {
    "name": "ipython",
    "version": 2
   },
   "file_extension": ".py",
   "mimetype": "text/x-python",
   "name": "python",
   "nbconvert_exporter": "python",
   "pygments_lexer": "ipython2",
   "version": "2.7.14"
  }
 },
 "nbformat": 4,
 "nbformat_minor": 2
}
